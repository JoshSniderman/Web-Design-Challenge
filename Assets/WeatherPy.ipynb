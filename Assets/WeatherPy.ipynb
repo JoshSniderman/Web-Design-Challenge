{
 "cells": [
  {
   "cell_type": "markdown",
   "metadata": {},
   "source": [
    "# WeatherPy\n",
    "----\n",
    "\n",
    "#### Note\n",
    "* Instructions have been included for each segment. You do not have to follow them exactly, but they are included to help you think through the steps."
   ]
  },
  {
   "cell_type": "code",
   "execution_count": 1,
   "metadata": {
    "scrolled": true
   },
   "outputs": [],
   "source": [
    "# Dependencies and Setup\n",
    "import matplotlib.pyplot as plt\n",
    "import pandas as pd\n",
    "import numpy as np\n",
    "import requests\n",
    "import time\n",
    "from scipy.stats import linregress\n",
    "\n",
    "# Import API key\n",
    "from api_keys import weather_api_key\n",
    "\n",
    "# Incorporated citipy to determine city based on latitude and longitude\n",
    "from citipy import citipy\n",
    "\n",
    "# Output File (CSV)\n",
    "output_data_file = \"output_data/cities.csv\"\n",
    "\n",
    "# Range of latitudes and longitudes\n",
    "lat_range = (-90, 90)\n",
    "lng_range = (-180, 180) "
   ]
  },
  {
   "cell_type": "markdown",
   "metadata": {},
   "source": [
    "## Generate Cities List"
   ]
  },
  {
   "cell_type": "code",
   "execution_count": 2,
   "metadata": {},
   "outputs": [
    {
     "data": {
      "text/plain": [
       "618"
      ]
     },
     "execution_count": 2,
     "metadata": {},
     "output_type": "execute_result"
    }
   ],
   "source": [
    "# List for holding lat_lngs and cities\n",
    "lat_lngs = []\n",
    "cities = []\n",
    "\n",
    "# Create a set of random lat and lng combinations\n",
    "lats = np.random.uniform(lat_range[0], lat_range[1], size=1500)\n",
    "lngs = np.random.uniform(lng_range[0], lng_range[1], size=1500)\n",
    "lat_lngs = zip(lats, lngs)\n",
    "\n",
    "# Identify nearest city for each lat, lng combination\n",
    "for lat_lng in lat_lngs:\n",
    "    city = citipy.nearest_city(lat_lng[0], lat_lng[1]).city_name\n",
    "    \n",
    "    # If the city is unique, then add it to a our cities list\n",
    "    if city not in cities:\n",
    "        cities.append(city)\n",
    "\n",
    "# Print the city count to confirm sufficient count\n",
    "len(cities)"
   ]
  },
  {
   "cell_type": "markdown",
   "metadata": {},
   "source": [
    "### Perform API Calls\n",
    "* Perform a weather check on each city using a series of successive API calls.\n",
    "* Include a print log of each city as it'sbeing processed (with the city number and city name).\n"
   ]
  },
  {
   "cell_type": "code",
   "execution_count": 3,
   "metadata": {
    "scrolled": true
   },
   "outputs": [
    {
     "name": "stdout",
     "output_type": "stream",
     "text": [
      "Processing record 1 of Set | ocala\n",
      "Processing record 2 of Set | port alfred\n",
      "Processing record 3 of Set | havre-saint-pierre\n",
      "City not found. Skipping...\n",
      "Processing record 4 of Set | deputatskiy\n",
      "Processing record 5 of Set | labuhan\n",
      "Processing record 6 of Set | cape town\n",
      "City not found. Skipping...\n",
      "Processing record 7 of Set | bethel\n",
      "Processing record 8 of Set | cidreira\n",
      "City not found. Skipping...\n",
      "Processing record 9 of Set | punta arenas\n",
      "Processing record 10 of Set | mataura\n",
      "Processing record 11 of Set | mehamn\n",
      "Processing record 12 of Set | cabo san lucas\n",
      "Processing record 13 of Set | busselton\n",
      "Processing record 14 of Set | cap malheureux\n",
      "Processing record 15 of Set | adrar\n",
      "Processing record 16 of Set | butaritari\n",
      "Processing record 17 of Set | khatanga\n",
      "Processing record 18 of Set | lingao\n",
      "Processing record 19 of Set | dingle\n",
      "Processing record 20 of Set | atuona\n",
      "Processing record 21 of Set | ushuaia\n",
      "Processing record 22 of Set | bredasdorp\n",
      "Processing record 23 of Set | san cristobal\n",
      "Processing record 24 of Set | half moon bay\n",
      "Processing record 25 of Set | rikitea\n",
      "City not found. Skipping...\n",
      "Processing record 26 of Set | faanui\n",
      "Processing record 27 of Set | shimoda\n",
      "Processing record 28 of Set | cherskiy\n",
      "Processing record 29 of Set | formosa do rio preto\n",
      "Processing record 30 of Set | nemuro\n",
      "Processing record 31 of Set | kapaa\n",
      "Processing record 32 of Set | lebu\n",
      "Processing record 33 of Set | mackay\n",
      "Processing record 34 of Set | saint george\n",
      "Processing record 35 of Set | hobart\n",
      "Processing record 36 of Set | hermanus\n",
      "Processing record 37 of Set | columbus\n",
      "Processing record 38 of Set | vaini\n",
      "Processing record 39 of Set | terrak\n",
      "Processing record 40 of Set | chuy\n",
      "Processing record 41 of Set | carbonia\n",
      "Processing record 42 of Set | qaanaaq\n",
      "City not found. Skipping...\n",
      "Processing record 43 of Set | castro\n",
      "Processing record 44 of Set | port elizabeth\n",
      "Processing record 45 of Set | saint anthony\n",
      "Processing record 46 of Set | new norfolk\n",
      "Processing record 47 of Set | beloha\n",
      "Processing record 48 of Set | broome\n",
      "Processing record 49 of Set | pastavy\n",
      "Processing record 50 of Set | kyren\n",
      "Processing record 51 of Set | guerrero negro\n",
      "Processing record 52 of Set | miles city\n",
      "Processing record 53 of Set | victoria\n",
      "Processing record 54 of Set | albany\n",
      "Processing record 55 of Set | idlib\n",
      "Processing record 56 of Set | saint-louis\n",
      "Processing record 57 of Set | jamestown\n",
      "Processing record 58 of Set | hasaki\n",
      "Processing record 59 of Set | sitka\n",
      "Processing record 60 of Set | saint-philippe\n",
      "Processing record 61 of Set | barrow\n",
      "Processing record 62 of Set | ugoofaaru\n",
      "Processing record 63 of Set | brae\n",
      "Processing record 64 of Set | husavik\n",
      "Processing record 65 of Set | bluff\n",
      "Processing record 66 of Set | katsuura\n",
      "Processing record 67 of Set | upernavik\n",
      "Processing record 68 of Set | bowen\n",
      "Processing record 69 of Set | roald\n",
      "City not found. Skipping...\n",
      "Processing record 70 of Set | sarangani\n",
      "Processing record 71 of Set | eucaliptus\n",
      "Processing record 72 of Set | todos santos\n",
      "Processing record 73 of Set | kinkala\n",
      "City not found. Skipping...\n",
      "Processing record 74 of Set | bhuj\n",
      "Processing record 75 of Set | marzuq\n",
      "Processing record 76 of Set | ribeira grande\n",
      "Processing record 77 of Set | nikolskoye\n",
      "Processing record 78 of Set | hilo\n",
      "City not found. Skipping...\n",
      "Processing record 79 of Set | puerto ayora\n",
      "Processing record 80 of Set | comodoro rivadavia\n",
      "Processing record 81 of Set | kloulklubed\n",
      "Processing record 82 of Set | haines junction\n",
      "Processing record 83 of Set | kheri\n",
      "Processing record 84 of Set | lago da pedra\n",
      "Processing record 85 of Set | nantucket\n",
      "Processing record 86 of Set | smithers\n",
      "Processing record 87 of Set | chulman\n",
      "Processing record 88 of Set | kharp\n",
      "Processing record 89 of Set | cap-aux-meules\n",
      "Processing record 90 of Set | padang\n",
      "Processing record 91 of Set | grindavik\n",
      "City not found. Skipping...\n",
      "Processing record 92 of Set | faya\n",
      "Processing record 93 of Set | dikson\n",
      "Processing record 94 of Set | broken hill\n",
      "Processing record 95 of Set | kalmunai\n",
      "Processing record 96 of Set | anchorage\n",
      "Processing record 97 of Set | buzmeyin\n",
      "Processing record 98 of Set | mount isa\n",
      "Processing record 99 of Set | makakilo city\n",
      "Processing record 100 of Set | hrebinka\n",
      "Processing record 101 of Set | torbay\n",
      "Processing record 102 of Set | nhulunbuy\n",
      "Processing record 103 of Set | fenelon falls\n",
      "Processing record 104 of Set | eura\n",
      "Processing record 105 of Set | santa cruz\n",
      "Processing record 106 of Set | bilibino\n",
      "Processing record 107 of Set | jinxiang\n",
      "Processing record 108 of Set | omboue\n",
      "Processing record 109 of Set | ossora\n",
      "Processing record 110 of Set | najran\n",
      "Processing record 111 of Set | aleksandrovskoye\n",
      "Processing record 112 of Set | nome\n",
      "Processing record 113 of Set | provideniya\n",
      "Processing record 114 of Set | airai\n",
      "Processing record 115 of Set | tashla\n",
      "Processing record 116 of Set | avarua\n",
      "Processing record 117 of Set | east london\n",
      "Processing record 118 of Set | iqaluit\n",
      "City not found. Skipping...\n",
      "Processing record 119 of Set | ajdabiya\n",
      "Processing record 120 of Set | souillac\n",
      "Processing record 121 of Set | tabou\n",
      "City not found. Skipping...\n",
      "City not found. Skipping...\n",
      "Processing record 122 of Set | pringsewu\n",
      "Processing record 123 of Set | pevek\n",
      "Processing record 124 of Set | sakakah\n",
      "Processing record 125 of Set | luderitz\n",
      "City not found. Skipping...\n",
      "City not found. Skipping...\n",
      "Processing record 126 of Set | hervey bay\n",
      "Processing record 127 of Set | hovd\n",
      "City not found. Skipping...\n",
      "Processing record 128 of Set | hattiesburg\n",
      "Processing record 129 of Set | shuyskoye\n",
      "Processing record 130 of Set | saint-augustin\n",
      "City not found. Skipping...\n",
      "Processing record 131 of Set | cayenne\n",
      "Processing record 132 of Set | brcko\n",
      "Processing record 133 of Set | sterling\n",
      "City not found. Skipping...\n",
      "Processing record 134 of Set | general roca\n",
      "Processing record 135 of Set | iquique\n",
      "Processing record 136 of Set | ongandjera\n",
      "Processing record 137 of Set | katherine\n",
      "Processing record 138 of Set | kajaani\n",
      "Processing record 139 of Set | stornoway\n",
      "Processing record 140 of Set | dubrovytsya\n",
      "Processing record 141 of Set | lavrentiya\n",
      "City not found. Skipping...\n",
      "Processing record 142 of Set | yeppoon\n",
      "Processing record 143 of Set | sao jose da coroa grande\n",
      "Processing record 144 of Set | urumqi\n",
      "Processing record 145 of Set | mar del plata\n",
      "Processing record 146 of Set | kungurtug\n",
      "Processing record 147 of Set | kaohsiung\n",
      "Processing record 148 of Set | chara\n",
      "Processing record 149 of Set | ponta do sol\n",
      "Processing record 150 of Set | vrangel\n",
      "Processing record 151 of Set | japura\n",
      "Processing record 152 of Set | yellowknife\n",
      "Processing record 153 of Set | mahebourg\n",
      "Processing record 154 of Set | tigzirt\n",
      "Processing record 155 of Set | tome\n",
      "Processing record 156 of Set | carnarvon\n",
      "Processing record 157 of Set | kodiak\n",
      "Processing record 158 of Set | tecolutilla\n",
      "Processing record 159 of Set | gizo\n",
      "Processing record 160 of Set | constitucion\n",
      "Processing record 161 of Set | touros\n",
      "Processing record 162 of Set | longyearbyen\n",
      "Processing record 163 of Set | ibia\n",
      "Processing record 164 of Set | tuktoyaktuk\n",
      "Processing record 165 of Set | paranaiba\n",
      "Processing record 166 of Set | abha\n",
      "Processing record 167 of Set | suba\n",
      "Processing record 168 of Set | moscow\n",
      "Processing record 169 of Set | buta\n",
      "City not found. Skipping...\n",
      "City not found. Skipping...\n",
      "Processing record 170 of Set | burnie\n",
      "Processing record 171 of Set | coquimbo\n",
      "Processing record 172 of Set | prien\n",
      "Processing record 173 of Set | norman wells\n",
      "City not found. Skipping...\n",
      "Processing record 174 of Set | general pico\n",
      "Processing record 175 of Set | coaticook\n",
      "Processing record 176 of Set | fairbanks\n",
      "Processing record 177 of Set | richards bay\n",
      "Processing record 178 of Set | simao\n",
      "Processing record 179 of Set | san jose\n",
      "City not found. Skipping...\n",
      "Processing record 180 of Set | guiratinga\n",
      "City not found. Skipping...\n",
      "Processing record 181 of Set | tuatapere\n",
      "Processing record 182 of Set | ostersund\n",
      "Processing record 183 of Set | kavieng\n",
      "City not found. Skipping...\n",
      "Processing record 184 of Set | sao filipe\n",
      "Processing record 185 of Set | lagoa\n",
      "Processing record 186 of Set | lorengau\n",
      "Processing record 187 of Set | raudeberg\n",
      "City not found. Skipping...\n",
      "Processing record 188 of Set | taoudenni\n",
      "Processing record 189 of Set | gesves\n",
      "Processing record 190 of Set | portland\n",
      "Processing record 191 of Set | saskylakh\n",
      "Processing record 192 of Set | novyy urengoy\n",
      "Processing record 193 of Set | ust-kulom\n",
      "Processing record 194 of Set | chokurdakh\n",
      "Processing record 195 of Set | shenjiamen\n",
      "Processing record 196 of Set | southbridge\n",
      "Processing record 197 of Set | nizwa\n",
      "Processing record 198 of Set | finschhafen\n",
      "Processing record 199 of Set | ambon\n",
      "Processing record 200 of Set | kondinskoye\n",
      "Processing record 201 of Set | kamina\n",
      "Processing record 202 of Set | lokoja\n",
      "Processing record 203 of Set | komsomolskiy\n",
      "Processing record 204 of Set | san patricio\n",
      "Processing record 205 of Set | erdenet\n",
      "Processing record 206 of Set | wiarton\n",
      "Processing record 207 of Set | nanortalik\n",
      "Processing record 208 of Set | zyryanka\n",
      "Processing record 209 of Set | orotukan\n",
      "Processing record 210 of Set | jilin\n",
      "Processing record 211 of Set | tasiilaq\n",
      "Processing record 212 of Set | lethem\n",
      "Processing record 213 of Set | wagar\n",
      "Processing record 214 of Set | kangaatsiaq\n",
      "Processing record 215 of Set | praia da vitoria\n",
      "Processing record 216 of Set | veriora\n",
      "Processing record 217 of Set | bubaque\n",
      "City not found. Skipping...\n",
      "Processing record 218 of Set | kormilovka\n",
      "Processing record 219 of Set | lazaro cardenas\n",
      "Processing record 220 of Set | knyaze-volkonskoye\n",
      "Processing record 221 of Set | kenora\n",
      "Processing record 222 of Set | rutana\n",
      "Processing record 223 of Set | kisangani\n",
      "Processing record 224 of Set | kahului\n",
      "City not found. Skipping...\n",
      "Processing record 225 of Set | merauke\n",
      "Processing record 226 of Set | west linton\n",
      "Processing record 227 of Set | codrington\n",
      "Processing record 228 of Set | yevlax\n",
      "Processing record 229 of Set | arraial do cabo\n",
      "Processing record 230 of Set | eyl\n",
      "Processing record 231 of Set | cierna nad tisou\n",
      "Processing record 232 of Set | beyneu\n",
      "Processing record 233 of Set | muros\n",
      "Processing record 234 of Set | aktas\n",
      "Processing record 235 of Set | sovetskiy\n",
      "City not found. Skipping...\n",
      "Processing record 236 of Set | chopda\n",
      "Processing record 237 of Set | saint-francois\n",
      "Processing record 238 of Set | lompoc\n",
      "Processing record 239 of Set | bambous virieux\n",
      "Processing record 240 of Set | aguas formosas\n",
      "Processing record 241 of Set | vilyuysk\n",
      "Processing record 242 of Set | russell\n",
      "Processing record 243 of Set | debre tabor\n",
      "City not found. Skipping...\n",
      "Processing record 244 of Set | taltal\n",
      "Processing record 245 of Set | sistranda\n",
      "City not found. Skipping...\n",
      "City not found. Skipping...\n",
      "Processing record 246 of Set | wana\n",
      "Processing record 247 of Set | fare\n",
      "Processing record 248 of Set | puerto del rosario\n",
      "City not found. Skipping...\n",
      "Processing record 249 of Set | prado\n",
      "Processing record 250 of Set | kurumkan\n",
      "Processing record 251 of Set | bengkulu\n",
      "Processing record 252 of Set | lata\n",
      "Processing record 253 of Set | pandan\n",
      "Processing record 254 of Set | meulaboh\n",
      "Processing record 255 of Set | marsh harbour\n",
      "Processing record 256 of Set | santa rosa\n",
      "Processing record 257 of Set | jiangyou\n",
      "Processing record 258 of Set | alpena\n",
      "Processing record 259 of Set | ilulissat\n",
      "Processing record 260 of Set | xiaoweizhai\n",
      "Processing record 261 of Set | la libertad\n",
      "Processing record 262 of Set | todos santos cuchumatan\n",
      "Processing record 263 of Set | lekoni\n",
      "Processing record 264 of Set | key west\n",
      "Processing record 265 of Set | bilma\n",
      "Processing record 266 of Set | rawson\n",
      "Processing record 267 of Set | pangnirtung\n",
      "Processing record 268 of Set | jos\n",
      "City not found. Skipping...\n",
      "Processing record 269 of Set | tiznit\n",
      "Processing record 270 of Set | fort saint james\n",
      "Processing record 271 of Set | ostrovnoy\n",
      "Processing record 272 of Set | kalabo\n",
      "Processing record 273 of Set | dudinka\n",
      "Processing record 274 of Set | hithadhoo\n",
      "Processing record 275 of Set | salalah\n",
      "Processing record 276 of Set | adamas\n",
      "Processing record 277 of Set | svetlyy\n",
      "Processing record 278 of Set | rudbar\n",
      "Processing record 279 of Set | ulladulla\n",
      "Processing record 280 of Set | cortes\n",
      "Processing record 281 of Set | quchan\n",
      "Processing record 282 of Set | kashi\n",
      "Processing record 283 of Set | severo-kurilsk\n",
      "Processing record 284 of Set | hamilton\n",
      "Processing record 285 of Set | sinazongwe\n",
      "Processing record 286 of Set | san policarpo\n",
      "Processing record 287 of Set | quatre cocos\n",
      "Processing record 288 of Set | korla\n",
      "Processing record 289 of Set | livingstonia\n",
      "Processing record 290 of Set | yulara\n",
      "Processing record 291 of Set | auki\n",
      "Processing record 292 of Set | sao felix do xingu\n",
      "Processing record 293 of Set | vanavara\n",
      "Processing record 294 of Set | mount gambier\n",
      "City not found. Skipping...\n",
      "Processing record 295 of Set | ola\n",
      "Processing record 296 of Set | dailly\n",
      "Processing record 297 of Set | erzin\n",
      "Processing record 298 of Set | la ronge\n",
      "Processing record 299 of Set | copiapo\n",
      "Processing record 300 of Set | qax\n",
      "Processing record 301 of Set | bud\n",
      "Processing record 302 of Set | port keats\n",
      "City not found. Skipping...\n",
      "Processing record 303 of Set | baraboo\n",
      "Processing record 304 of Set | nishihara\n",
      "Processing record 305 of Set | graaff-reinet\n",
      "Processing record 306 of Set | chiredzi\n",
      "Processing record 307 of Set | taiyuan\n",
      "Processing record 308 of Set | karpogory\n",
      "Processing record 309 of Set | karratha\n",
      "Processing record 310 of Set | maryborough\n",
      "Processing record 311 of Set | charlestown\n",
      "Processing record 312 of Set | paka\n",
      "Processing record 313 of Set | tiksi\n",
      "Processing record 314 of Set | snasa\n",
      "Processing record 315 of Set | yumen\n",
      "Processing record 316 of Set | kendari\n",
      "Processing record 317 of Set | te anau\n",
      "Processing record 318 of Set | talnakh\n",
      "Processing record 319 of Set | esperance\n",
      "Processing record 320 of Set | port hawkesbury\n",
      "Processing record 321 of Set | gaoual\n",
      "Processing record 322 of Set | georgetown\n",
      "Processing record 323 of Set | urucui\n",
      "Processing record 324 of Set | bayji\n",
      "Processing record 325 of Set | saldanha\n",
      "Processing record 326 of Set | myaundzha\n",
      "Processing record 327 of Set | flin flon\n",
      "Processing record 328 of Set | pekalongan\n",
      "Processing record 329 of Set | lasa\n",
      "Processing record 330 of Set | mangit\n",
      "Processing record 331 of Set | deqing\n",
      "Processing record 332 of Set | coari\n",
      "City not found. Skipping...\n",
      "Processing record 333 of Set | putatan\n",
      "Processing record 334 of Set | westport\n",
      "Processing record 335 of Set | tikrit\n",
      "Processing record 336 of Set | baoro\n",
      "Processing record 337 of Set | beringovskiy\n",
      "Processing record 338 of Set | vestmannaeyjar\n",
      "Processing record 339 of Set | sabang\n",
      "City not found. Skipping...\n",
      "Processing record 340 of Set | pekan nenas\n",
      "Processing record 341 of Set | roma\n",
      "Processing record 342 of Set | rundu\n",
      "Processing record 343 of Set | martaban\n",
      "Processing record 344 of Set | peniche\n",
      "Processing record 345 of Set | flinders\n",
      "Processing record 346 of Set | dongsheng\n",
      "Processing record 347 of Set | naze\n",
      "Processing record 348 of Set | tekeli\n",
      "Processing record 349 of Set | birao\n",
      "Processing record 350 of Set | kieta\n",
      "Processing record 351 of Set | ocampo\n",
      "Processing record 352 of Set | puerto colombia\n",
      "Processing record 353 of Set | victoria point\n",
      "Processing record 354 of Set | copala\n",
      "Processing record 355 of Set | sioux lookout\n",
      "Processing record 356 of Set | leh\n",
      "Processing record 357 of Set | kot samaba\n",
      "Processing record 358 of Set | coahuayana\n",
      "Processing record 359 of Set | kununurra\n",
      "Processing record 360 of Set | rehoboth\n",
      "Processing record 361 of Set | bulgan\n",
      "Processing record 362 of Set | altay\n",
      "Processing record 363 of Set | houma\n",
      "Processing record 364 of Set | oranjemund\n",
      "Processing record 365 of Set | bumba\n",
      "Processing record 366 of Set | vardo\n",
      "Processing record 367 of Set | ifakara\n",
      "City not found. Skipping...\n",
      "Processing record 368 of Set | gat\n",
      "Processing record 369 of Set | barra do garcas\n",
      "Processing record 370 of Set | pisco\n",
      "Processing record 371 of Set | neuquen\n",
      "Processing record 372 of Set | ranst\n",
      "City not found. Skipping...\n",
      "Processing record 373 of Set | noumea\n",
      "Processing record 374 of Set | mabaruma\n",
      "Processing record 375 of Set | douglas\n",
      "Processing record 376 of Set | manado\n",
      "Processing record 377 of Set | mehran\n",
      "Processing record 378 of Set | hohhot\n",
      "Processing record 379 of Set | mayo\n",
      "Processing record 380 of Set | halifax\n",
      "Processing record 381 of Set | kollam\n",
      "Processing record 382 of Set | zaozerne\n",
      "Processing record 383 of Set | kadoshkino\n",
      "Processing record 384 of Set | zemio\n",
      "Processing record 385 of Set | petropavlovsk-kamchatskiy\n",
      "City not found. Skipping...\n",
      "Processing record 386 of Set | chernyshevskiy\n",
      "City not found. Skipping...\n",
      "Processing record 387 of Set | hue\n",
      "Processing record 388 of Set | saryozek\n",
      "Processing record 389 of Set | tromso\n",
      "Processing record 390 of Set | narsaq\n",
      "Processing record 391 of Set | grand forks\n",
      "Processing record 392 of Set | kanungu\n",
      "Processing record 393 of Set | orsha\n",
      "Processing record 394 of Set | ahome\n",
      "Processing record 395 of Set | dodge city\n",
      "Processing record 396 of Set | kasempa\n",
      "Processing record 397 of Set | constantine\n",
      "Processing record 398 of Set | kaeo\n",
      "Processing record 399 of Set | prince rupert\n",
      "Processing record 400 of Set | almeirim\n",
      "Processing record 401 of Set | skagen\n",
      "Processing record 402 of Set | tilichiki\n",
      "Processing record 403 of Set | gweta\n",
      "Processing record 404 of Set | olafsvik\n",
      "Processing record 405 of Set | pryluky\n",
      "Processing record 406 of Set | belmonte\n",
      "Processing record 407 of Set | amahai\n",
      "Processing record 408 of Set | radford\n",
      "Processing record 409 of Set | salmo\n",
      "Processing record 410 of Set | teluk nibung\n",
      "Processing record 411 of Set | tres passos\n",
      "Processing record 412 of Set | havoysund\n",
      "Processing record 413 of Set | ada\n",
      "Processing record 414 of Set | mountrath\n",
      "Processing record 415 of Set | kulhudhuffushi\n",
      "Processing record 416 of Set | pitimbu\n",
      "Processing record 417 of Set | lashio\n",
      "Processing record 418 of Set | clyde river\n",
      "Processing record 419 of Set | rey bouba\n",
      "Processing record 420 of Set | mecca\n",
      "Processing record 421 of Set | trairi\n",
      "Processing record 422 of Set | folkestone\n",
      "Processing record 423 of Set | kruisfontein\n",
      "Processing record 424 of Set | santa vitoria do palmar\n",
      "Processing record 425 of Set | reconquista\n",
      "Processing record 426 of Set | tawang\n",
      "City not found. Skipping...\n",
      "Processing record 427 of Set | gorontalo\n",
      "Processing record 428 of Set | sierre\n",
      "Processing record 429 of Set | pacific grove\n",
      "Processing record 430 of Set | rantepao\n",
      "Processing record 431 of Set | okhotsk\n",
      "Processing record 432 of Set | sao geraldo do araguaia\n",
      "Processing record 433 of Set | shikarpur\n",
      "Processing record 434 of Set | kodinsk\n",
      "Processing record 435 of Set | wangqing\n",
      "Processing record 436 of Set | le pont-de-claix\n",
      "Processing record 437 of Set | kudahuvadhoo\n",
      "Processing record 438 of Set | mozarlandia\n",
      "Processing record 439 of Set | quang ngai\n",
      "Processing record 440 of Set | atikokan\n",
      "Processing record 441 of Set | vila franca do campo\n",
      "Processing record 442 of Set | cintalapa\n",
      "Processing record 443 of Set | mizdah\n",
      "Processing record 444 of Set | imbituba\n",
      "Processing record 445 of Set | las cruces\n",
      "Processing record 446 of Set | ternate\n",
      "Processing record 447 of Set | carutapera\n",
      "Processing record 448 of Set | mikkeli\n",
      "Processing record 449 of Set | qui nhon\n",
      "Processing record 450 of Set | cabedelo\n",
      "Processing record 451 of Set | zhezkazgan\n",
      "Processing record 452 of Set | mangla\n",
      "Processing record 453 of Set | namatanai\n",
      "Processing record 454 of Set | nolinsk\n",
      "Processing record 455 of Set | bathsheba\n",
      "Processing record 456 of Set | buala\n",
      "City not found. Skipping...\n",
      "Processing record 457 of Set | izhma\n",
      "City not found. Skipping...\n",
      "Processing record 458 of Set | jamalteca\n",
      "Processing record 459 of Set | balclutha\n",
      "Processing record 460 of Set | akureyri\n",
      "Processing record 461 of Set | mago\n",
      "Processing record 462 of Set | isangel\n",
      "Processing record 463 of Set | porosozero\n",
      "Processing record 464 of Set | sept-iles\n",
      "City not found. Skipping...\n",
      "Processing record 465 of Set | wangjing\n",
      "Processing record 466 of Set | homer\n",
      "Processing record 467 of Set | san andres\n",
      "Processing record 468 of Set | great yarmouth\n",
      "Processing record 469 of Set | zhigansk\n",
      "Processing record 470 of Set | bukachacha\n",
      "Processing record 471 of Set | nyurba\n",
      "Processing record 472 of Set | banjar\n",
      "Processing record 473 of Set | kholodnyy\n",
      "City not found. Skipping...\n",
      "Processing record 474 of Set | mahibadhoo\n",
      "Processing record 475 of Set | ereymentau\n",
      "Processing record 476 of Set | ancud\n",
      "Processing record 477 of Set | mahajanga\n",
      "Processing record 478 of Set | porto torres\n",
      "Processing record 479 of Set | bakchar\n",
      "Processing record 480 of Set | klaksvik\n",
      "Processing record 481 of Set | santa maria\n",
      "Processing record 482 of Set | awbari\n",
      "Processing record 483 of Set | tuy hoa\n",
      "Processing record 484 of Set | manzil salim\n",
      "Processing record 485 of Set | moses lake\n",
      "Processing record 486 of Set | sorland\n",
      "Processing record 487 of Set | grand-santi\n",
      "Processing record 488 of Set | north bend\n",
      "Processing record 489 of Set | ville-marie\n",
      "Processing record 490 of Set | tyubuk\n",
      "Processing record 491 of Set | oskaloosa\n",
      "Processing record 492 of Set | tual\n",
      "Processing record 493 of Set | aleksandrovka\n",
      "Processing record 494 of Set | murmashi\n",
      "Processing record 495 of Set | kaitangata\n",
      "Processing record 496 of Set | bisert\n",
      "City not found. Skipping...\n",
      "City not found. Skipping...\n",
      "Processing record 497 of Set | sorong\n",
      "Processing record 498 of Set | bukama\n",
      "Processing record 499 of Set | caxito\n",
      "Processing record 500 of Set | morris\n",
      "Processing record 501 of Set | hobyo\n",
      "Processing record 502 of Set | luganville\n",
      "Processing record 503 of Set | ranong\n",
      "Processing record 504 of Set | dumra\n",
      "Processing record 505 of Set | leshukonskoye\n",
      "Processing record 506 of Set | abalak\n",
      "Processing record 507 of Set | inhambane\n",
      "Processing record 508 of Set | ewa beach\n",
      "Processing record 509 of Set | port hedland\n",
      "Processing record 510 of Set | ketchikan\n",
      "Processing record 511 of Set | oistins\n",
      "Processing record 512 of Set | los llanos de aridane\n",
      "Processing record 513 of Set | kyra\n",
      "Processing record 514 of Set | quincy\n",
      "Processing record 515 of Set | roswell\n",
      "City not found. Skipping...\n",
      "City not found. Skipping...\n",
      "Processing record 516 of Set | disraeli\n",
      "Processing record 517 of Set | tongliao\n",
      "Processing record 518 of Set | yushu\n",
      "Processing record 519 of Set | ales\n",
      "Processing record 520 of Set | berlevag\n",
      "Processing record 521 of Set | buluang\n",
      "Processing record 522 of Set | dhidhdhoo\n",
      "Processing record 523 of Set | villeneuve-sur-lot\n",
      "Processing record 524 of Set | aklavik\n",
      "Processing record 525 of Set | arvika\n",
      "Processing record 526 of Set | puerto ayacucho\n",
      "Processing record 527 of Set | koulikoro\n",
      "Processing record 528 of Set | pulandian\n",
      "Processing record 529 of Set | coromandel\n",
      "Processing record 530 of Set | egvekinot\n",
      "Processing record 531 of Set | parlakimidi\n",
      "Processing record 532 of Set | goderich\n",
      "Processing record 533 of Set | cockburn town\n",
      "Processing record 534 of Set | dunedin\n",
      "Processing record 535 of Set | orlik\n",
      "Processing record 536 of Set | limbang\n",
      "Processing record 537 of Set | high level\n",
      "Processing record 538 of Set | bara\n",
      "Processing record 539 of Set | ahipara\n",
      "Processing record 540 of Set | palatka\n",
      "Processing record 541 of Set | acapulco\n",
      "Processing record 542 of Set | fort wellington\n",
      "Processing record 543 of Set | nosy varika\n",
      "Processing record 544 of Set | axim\n",
      "Processing record 545 of Set | maldonado\n",
      "Processing record 546 of Set | soubre\n",
      "Processing record 547 of Set | sunndalsora\n",
      "Processing record 548 of Set | saltpond\n",
      "Processing record 549 of Set | port lincoln\n",
      "Processing record 550 of Set | villa bruzual\n",
      "Processing record 551 of Set | itarema\n",
      "Processing record 552 of Set | emerald\n",
      "City not found. Skipping...\n",
      "Processing record 553 of Set | vizinga\n",
      "Processing record 554 of Set | leningradskiy\n",
      "Processing record 555 of Set | akdepe\n",
      "Processing record 556 of Set | thompson\n",
      "Processing record 557 of Set | lagunas\n",
      "Processing record 558 of Set | mangai\n",
      "Processing record 559 of Set | buraydah\n",
      "Processing record 560 of Set | acajutla\n",
      "Processing record 561 of Set | promyshlennaya\n",
      "Processing record 562 of Set | nioro\n",
      "Processing record 563 of Set | okato\n",
      "Processing record 564 of Set | kinablangan\n",
      "City not found. Skipping...\n",
      "Processing record 565 of Set | puerto rondon\n",
      "Processing record 566 of Set | calvinia\n"
     ]
    }
   ],
   "source": [
    "url = \"http://api.openweathermap.org/data/2.5/weather?\"\n",
    "cities_data = []\n",
    "cities_name = []\n",
    "cities_lat = []\n",
    "cities_lng = []\n",
    "cities_max = []\n",
    "cities_hum = []\n",
    "cities_cloud = []\n",
    "cities_wind = []\n",
    "cities_country = []\n",
    "cities_date = []\n",
    "\n",
    "for city in cities:\n",
    "    try:\n",
    "        response = requests.get(f\"{url}q={city}&appid={weather_api_key}&units=imperial\").json()\n",
    "        cities_name.append(response[\"name\"])\n",
    "        cities_lat.append(response[\"coord\"][\"lat\"])\n",
    "        cities_lng.append(response[\"coord\"][\"lon\"])\n",
    "        cities_max.append(response[\"main\"][\"temp_max\"])\n",
    "        cities_hum.append(response[\"main\"][\"humidity\"])\n",
    "        cities_cloud.append(response[\"clouds\"][\"all\"])\n",
    "        cities_wind.append(response[\"wind\"][\"speed\"])\n",
    "        cities_country.append(response[\"sys\"][\"country\"])\n",
    "        cities_date.append(response[\"dt\"])\n",
    "        cities_data.append(response)\n",
    "        print(f\"Processing record {cities_data.index(response) + 1} of Set | {city}\")\n",
    "    except:\n",
    "        print(f\"City not found. Skipping...\")"
   ]
  },
  {
   "cell_type": "markdown",
   "metadata": {},
   "source": [
    "### Convert Raw Data to DataFrame\n",
    "* Export the city data into a .csv.\n",
    "* Display the DataFrame"
   ]
  },
  {
   "cell_type": "code",
   "execution_count": 4,
   "metadata": {},
   "outputs": [
    {
     "data": {
      "text/html": [
       "<div>\n",
       "<style scoped>\n",
       "    .dataframe tbody tr th:only-of-type {\n",
       "        vertical-align: middle;\n",
       "    }\n",
       "\n",
       "    .dataframe tbody tr th {\n",
       "        vertical-align: top;\n",
       "    }\n",
       "\n",
       "    .dataframe thead th {\n",
       "        text-align: right;\n",
       "    }\n",
       "</style>\n",
       "<table border=\"1\" class=\"dataframe\">\n",
       "  <thead>\n",
       "    <tr style=\"text-align: right;\">\n",
       "      <th></th>\n",
       "      <th>City</th>\n",
       "      <th>Lat</th>\n",
       "      <th>Lng</th>\n",
       "      <th>Max Temp</th>\n",
       "      <th>Humidity</th>\n",
       "      <th>Cloudiness</th>\n",
       "      <th>Wind Speed</th>\n",
       "      <th>Country</th>\n",
       "      <th>Date</th>\n",
       "    </tr>\n",
       "  </thead>\n",
       "  <tbody>\n",
       "    <tr>\n",
       "      <th>0</th>\n",
       "      <td>Ocala</td>\n",
       "      <td>29.1872</td>\n",
       "      <td>-82.1401</td>\n",
       "      <td>62.60</td>\n",
       "      <td>88</td>\n",
       "      <td>40</td>\n",
       "      <td>8.05</td>\n",
       "      <td>US</td>\n",
       "      <td>1616140489</td>\n",
       "    </tr>\n",
       "    <tr>\n",
       "      <th>1</th>\n",
       "      <td>Port Alfred</td>\n",
       "      <td>-33.5906</td>\n",
       "      <td>26.8910</td>\n",
       "      <td>71.26</td>\n",
       "      <td>77</td>\n",
       "      <td>99</td>\n",
       "      <td>19.17</td>\n",
       "      <td>ZA</td>\n",
       "      <td>1616140295</td>\n",
       "    </tr>\n",
       "    <tr>\n",
       "      <th>2</th>\n",
       "      <td>Havre-St-Pierre</td>\n",
       "      <td>50.2334</td>\n",
       "      <td>-63.5986</td>\n",
       "      <td>10.40</td>\n",
       "      <td>61</td>\n",
       "      <td>1</td>\n",
       "      <td>18.41</td>\n",
       "      <td>CA</td>\n",
       "      <td>1616140514</td>\n",
       "    </tr>\n",
       "    <tr>\n",
       "      <th>3</th>\n",
       "      <td>Deputatsky</td>\n",
       "      <td>69.3000</td>\n",
       "      <td>139.9000</td>\n",
       "      <td>-18.38</td>\n",
       "      <td>96</td>\n",
       "      <td>100</td>\n",
       "      <td>4.38</td>\n",
       "      <td>RU</td>\n",
       "      <td>1616140465</td>\n",
       "    </tr>\n",
       "    <tr>\n",
       "      <th>4</th>\n",
       "      <td>Labuhan</td>\n",
       "      <td>-6.8844</td>\n",
       "      <td>112.2051</td>\n",
       "      <td>85.23</td>\n",
       "      <td>75</td>\n",
       "      <td>8</td>\n",
       "      <td>11.56</td>\n",
       "      <td>ID</td>\n",
       "      <td>1616140697</td>\n",
       "    </tr>\n",
       "    <tr>\n",
       "      <th>...</th>\n",
       "      <td>...</td>\n",
       "      <td>...</td>\n",
       "      <td>...</td>\n",
       "      <td>...</td>\n",
       "      <td>...</td>\n",
       "      <td>...</td>\n",
       "      <td>...</td>\n",
       "      <td>...</td>\n",
       "      <td>...</td>\n",
       "    </tr>\n",
       "    <tr>\n",
       "      <th>561</th>\n",
       "      <td>Nioro</td>\n",
       "      <td>13.3500</td>\n",
       "      <td>-15.7500</td>\n",
       "      <td>64.22</td>\n",
       "      <td>83</td>\n",
       "      <td>12</td>\n",
       "      <td>5.55</td>\n",
       "      <td>GM</td>\n",
       "      <td>1616140876</td>\n",
       "    </tr>\n",
       "    <tr>\n",
       "      <th>562</th>\n",
       "      <td>Okato</td>\n",
       "      <td>-39.2000</td>\n",
       "      <td>173.8833</td>\n",
       "      <td>55.99</td>\n",
       "      <td>74</td>\n",
       "      <td>0</td>\n",
       "      <td>3.00</td>\n",
       "      <td>NZ</td>\n",
       "      <td>1616140877</td>\n",
       "    </tr>\n",
       "    <tr>\n",
       "      <th>563</th>\n",
       "      <td>Kinablangan</td>\n",
       "      <td>7.6947</td>\n",
       "      <td>126.5503</td>\n",
       "      <td>82.80</td>\n",
       "      <td>77</td>\n",
       "      <td>100</td>\n",
       "      <td>8.61</td>\n",
       "      <td>PH</td>\n",
       "      <td>1616140877</td>\n",
       "    </tr>\n",
       "    <tr>\n",
       "      <th>564</th>\n",
       "      <td>Puerto Rondón</td>\n",
       "      <td>6.2805</td>\n",
       "      <td>-71.1000</td>\n",
       "      <td>74.12</td>\n",
       "      <td>77</td>\n",
       "      <td>36</td>\n",
       "      <td>5.86</td>\n",
       "      <td>CO</td>\n",
       "      <td>1616140877</td>\n",
       "    </tr>\n",
       "    <tr>\n",
       "      <th>565</th>\n",
       "      <td>Calvinia</td>\n",
       "      <td>-31.4707</td>\n",
       "      <td>19.7760</td>\n",
       "      <td>62.60</td>\n",
       "      <td>55</td>\n",
       "      <td>0</td>\n",
       "      <td>5.75</td>\n",
       "      <td>ZA</td>\n",
       "      <td>1616140878</td>\n",
       "    </tr>\n",
       "  </tbody>\n",
       "</table>\n",
       "<p>566 rows × 9 columns</p>\n",
       "</div>"
      ],
      "text/plain": [
       "                City      Lat       Lng  Max Temp  Humidity  Cloudiness  \\\n",
       "0              Ocala  29.1872  -82.1401     62.60        88          40   \n",
       "1        Port Alfred -33.5906   26.8910     71.26        77          99   \n",
       "2    Havre-St-Pierre  50.2334  -63.5986     10.40        61           1   \n",
       "3         Deputatsky  69.3000  139.9000    -18.38        96         100   \n",
       "4            Labuhan  -6.8844  112.2051     85.23        75           8   \n",
       "..               ...      ...       ...       ...       ...         ...   \n",
       "561            Nioro  13.3500  -15.7500     64.22        83          12   \n",
       "562            Okato -39.2000  173.8833     55.99        74           0   \n",
       "563      Kinablangan   7.6947  126.5503     82.80        77         100   \n",
       "564    Puerto Rondón   6.2805  -71.1000     74.12        77          36   \n",
       "565         Calvinia -31.4707   19.7760     62.60        55           0   \n",
       "\n",
       "     Wind Speed Country        Date  \n",
       "0          8.05      US  1616140489  \n",
       "1         19.17      ZA  1616140295  \n",
       "2         18.41      CA  1616140514  \n",
       "3          4.38      RU  1616140465  \n",
       "4         11.56      ID  1616140697  \n",
       "..          ...     ...         ...  \n",
       "561        5.55      GM  1616140876  \n",
       "562        3.00      NZ  1616140877  \n",
       "563        8.61      PH  1616140877  \n",
       "564        5.86      CO  1616140877  \n",
       "565        5.75      ZA  1616140878  \n",
       "\n",
       "[566 rows x 9 columns]"
      ]
     },
     "execution_count": 4,
     "metadata": {},
     "output_type": "execute_result"
    }
   ],
   "source": [
    "cities_df = pd.DataFrame({\n",
    "        \"City\": cities_name,\n",
    "        \"Lat\": cities_lat,\n",
    "        \"Lng\": cities_lng,\n",
    "        \"Max Temp\": cities_max,\n",
    "        \"Humidity\": cities_hum,\n",
    "        \"Cloudiness\": cities_cloud,\n",
    "        \"Wind Speed\": cities_wind,\n",
    "        \"Country\": cities_country,\n",
    "        \"Date\": cities_date\n",
    "})\n",
    "\n",
    "cities_df.to_csv(\"./Cities_Weather_Data.csv\", index=False, header=True)\n",
    "\n",
    "cities_df"
   ]
  },
  {
   "cell_type": "code",
   "execution_count": 5,
   "metadata": {},
   "outputs": [
    {
     "data": {
      "text/html": [
       "<div>\n",
       "<style scoped>\n",
       "    .dataframe tbody tr th:only-of-type {\n",
       "        vertical-align: middle;\n",
       "    }\n",
       "\n",
       "    .dataframe tbody tr th {\n",
       "        vertical-align: top;\n",
       "    }\n",
       "\n",
       "    .dataframe thead th {\n",
       "        text-align: right;\n",
       "    }\n",
       "</style>\n",
       "<table border=\"1\" class=\"dataframe\">\n",
       "  <thead>\n",
       "    <tr style=\"text-align: right;\">\n",
       "      <th></th>\n",
       "      <th>Lat</th>\n",
       "      <th>Lng</th>\n",
       "      <th>Max Temp</th>\n",
       "      <th>Humidity</th>\n",
       "      <th>Cloudiness</th>\n",
       "      <th>Wind Speed</th>\n",
       "      <th>Date</th>\n",
       "    </tr>\n",
       "  </thead>\n",
       "  <tbody>\n",
       "    <tr>\n",
       "      <th>count</th>\n",
       "      <td>566.000000</td>\n",
       "      <td>566.000000</td>\n",
       "      <td>566.000000</td>\n",
       "      <td>566.000000</td>\n",
       "      <td>566.000000</td>\n",
       "      <td>566.000000</td>\n",
       "      <td>5.660000e+02</td>\n",
       "    </tr>\n",
       "    <tr>\n",
       "      <th>mean</th>\n",
       "      <td>21.554627</td>\n",
       "      <td>20.033807</td>\n",
       "      <td>54.117456</td>\n",
       "      <td>70.869258</td>\n",
       "      <td>51.219081</td>\n",
       "      <td>7.921148</td>\n",
       "      <td>1.616141e+09</td>\n",
       "    </tr>\n",
       "    <tr>\n",
       "      <th>std</th>\n",
       "      <td>33.306943</td>\n",
       "      <td>90.144971</td>\n",
       "      <td>28.159272</td>\n",
       "      <td>20.908919</td>\n",
       "      <td>40.279485</td>\n",
       "      <td>5.680390</td>\n",
       "      <td>1.745252e+02</td>\n",
       "    </tr>\n",
       "    <tr>\n",
       "      <th>min</th>\n",
       "      <td>-54.800000</td>\n",
       "      <td>-179.166700</td>\n",
       "      <td>-27.810000</td>\n",
       "      <td>8.000000</td>\n",
       "      <td>0.000000</td>\n",
       "      <td>0.450000</td>\n",
       "      <td>1.616140e+09</td>\n",
       "    </tr>\n",
       "    <tr>\n",
       "      <th>25%</th>\n",
       "      <td>-4.989525</td>\n",
       "      <td>-59.749975</td>\n",
       "      <td>33.800000</td>\n",
       "      <td>62.000000</td>\n",
       "      <td>2.250000</td>\n",
       "      <td>4.000000</td>\n",
       "      <td>1.616141e+09</td>\n",
       "    </tr>\n",
       "    <tr>\n",
       "      <th>50%</th>\n",
       "      <td>26.579400</td>\n",
       "      <td>24.596500</td>\n",
       "      <td>59.000000</td>\n",
       "      <td>74.000000</td>\n",
       "      <td>52.000000</td>\n",
       "      <td>6.910000</td>\n",
       "      <td>1.616141e+09</td>\n",
       "    </tr>\n",
       "    <tr>\n",
       "      <th>75%</th>\n",
       "      <td>49.483175</td>\n",
       "      <td>101.849300</td>\n",
       "      <td>77.520000</td>\n",
       "      <td>87.000000</td>\n",
       "      <td>90.000000</td>\n",
       "      <td>10.360000</td>\n",
       "      <td>1.616141e+09</td>\n",
       "    </tr>\n",
       "    <tr>\n",
       "      <th>max</th>\n",
       "      <td>78.218600</td>\n",
       "      <td>179.316700</td>\n",
       "      <td>102.650000</td>\n",
       "      <td>100.000000</td>\n",
       "      <td>100.000000</td>\n",
       "      <td>42.860000</td>\n",
       "      <td>1.616141e+09</td>\n",
       "    </tr>\n",
       "  </tbody>\n",
       "</table>\n",
       "</div>"
      ],
      "text/plain": [
       "              Lat         Lng    Max Temp    Humidity  Cloudiness  Wind Speed  \\\n",
       "count  566.000000  566.000000  566.000000  566.000000  566.000000  566.000000   \n",
       "mean    21.554627   20.033807   54.117456   70.869258   51.219081    7.921148   \n",
       "std     33.306943   90.144971   28.159272   20.908919   40.279485    5.680390   \n",
       "min    -54.800000 -179.166700  -27.810000    8.000000    0.000000    0.450000   \n",
       "25%     -4.989525  -59.749975   33.800000   62.000000    2.250000    4.000000   \n",
       "50%     26.579400   24.596500   59.000000   74.000000   52.000000    6.910000   \n",
       "75%     49.483175  101.849300   77.520000   87.000000   90.000000   10.360000   \n",
       "max     78.218600  179.316700  102.650000  100.000000  100.000000   42.860000   \n",
       "\n",
       "               Date  \n",
       "count  5.660000e+02  \n",
       "mean   1.616141e+09  \n",
       "std    1.745252e+02  \n",
       "min    1.616140e+09  \n",
       "25%    1.616141e+09  \n",
       "50%    1.616141e+09  \n",
       "75%    1.616141e+09  \n",
       "max    1.616141e+09  "
      ]
     },
     "execution_count": 5,
     "metadata": {},
     "output_type": "execute_result"
    }
   ],
   "source": [
    "cities_df.describe()"
   ]
  },
  {
   "cell_type": "markdown",
   "metadata": {},
   "source": [
    "## Inspect the data and remove the cities where the humidity > 100%.\n",
    "----\n",
    "Skip this step if there are no cities that have humidity > 100%. "
   ]
  },
  {
   "cell_type": "code",
   "execution_count": null,
   "metadata": {},
   "outputs": [],
   "source": []
  },
  {
   "cell_type": "code",
   "execution_count": 6,
   "metadata": {},
   "outputs": [],
   "source": [
    "#  Get the indices of cities that have humidity over 100%.\n"
   ]
  },
  {
   "cell_type": "code",
   "execution_count": 7,
   "metadata": {},
   "outputs": [],
   "source": [
    "# Make a new DataFrame equal to the city data to drop all humidity outliers by index.\n",
    "# Passing \"inplace=False\" will make a copy of the city_data DataFrame, which we call \"clean_city_data\".\n"
   ]
  },
  {
   "cell_type": "code",
   "execution_count": null,
   "metadata": {},
   "outputs": [],
   "source": [
    "\n"
   ]
  },
  {
   "cell_type": "markdown",
   "metadata": {},
   "source": [
    "## Plotting the Data\n",
    "* Use proper labeling of the plots using plot titles (including date of analysis) and axes labels.\n",
    "* Save the plotted figures as .pngs."
   ]
  },
  {
   "cell_type": "markdown",
   "metadata": {},
   "source": [
    "## Latitude vs. Temperature Plot"
   ]
  },
  {
   "cell_type": "code",
   "execution_count": 23,
   "metadata": {
    "scrolled": true
   },
   "outputs": [
    {
     "data": {
      "image/png": "[encoded data removed]",
      "text/plain": [
       "<Figure size 432x288 with 1 Axes>"
      ]
     },
     "metadata": {
      "needs_background": "light"
     },
     "output_type": "display_data"
    }
   ],
   "source": [
    "plt.scatter(cities_df[\"Lat\"],cities_df[\"Max Temp\"])\n",
    "plt.xlabel(\"Latitude\")\n",
    "plt.ylabel(\"Max Temperature (F)\")\n",
    "plt.title(\"Latitude vs. Max Temperature\")\n",
    "plt.grid()\n",
    "\n",
    "plt.savefig('./LatVMaxTemp.png')\n",
    "\n",
    "plt.show()"
   ]
  },
  {
   "cell_type": "markdown",
   "metadata": {},
   "source": [
    "## Latitude vs. Humidity Plot"
   ]
  },
  {
   "cell_type": "code",
   "execution_count": 24,
   "metadata": {},
   "outputs": [
    {
     "data": {
      "image/png": "[encoded data removed]",
      "text/plain": [
       "<Figure size 432x288 with 1 Axes>"
      ]
     },
     "metadata": {
      "needs_background": "light"
     },
     "output_type": "display_data"
    }
   ],
   "source": [
    "plt.scatter(cities_df[\"Lat\"],cities_df[\"Humidity\"])\n",
    "plt.xlabel(\"Latitude\")\n",
    "plt.ylabel(\"Humidity\")\n",
    "plt.title(\"Latitude vs. Humidity\")\n",
    "plt.grid()\n",
    "\n",
    "plt.savefig('LatVHum.png')\n",
    "\n",
    "plt.show()"
   ]
  },
  {
   "cell_type": "markdown",
   "metadata": {},
   "source": [
    "## Latitude vs. Cloudiness Plot"
   ]
  },
  {
   "cell_type": "code",
   "execution_count": 25,
   "metadata": {},
   "outputs": [
    {
     "data": {
      "image/png": "[encoded data removed]",
      "text/plain": [
       "<Figure size 432x288 with 1 Axes>"
      ]
     },
     "metadata": {
      "needs_background": "light"
     },
     "output_type": "display_data"
    }
   ],
   "source": [
    "plt.scatter(cities_df[\"Lat\"],cities_df[\"Cloudiness\"])\n",
    "plt.xlabel(\"Latitude\")\n",
    "plt.ylabel(\"Cloudiness\")\n",
    "plt.title(\"Latitude vs. Cloudiness\")\n",
    "plt.grid()\n",
    "\n",
    "plt.savefig('LatVCloud.png')\n",
    "\n",
    "plt.show()\n"
   ]
  },
  {
   "cell_type": "markdown",
   "metadata": {},
   "source": [
    "## Latitude vs. Wind Speed Plot"
   ]
  },
  {
   "cell_type": "code",
   "execution_count": 26,
   "metadata": {},
   "outputs": [
    {
     "data": {
      "image/png": "[encoded data removed]",
      "text/plain": [
       "<Figure size 432x288 with 1 Axes>"
      ]
     },
     "metadata": {
      "needs_background": "light"
     },
     "output_type": "display_data"
    }
   ],
   "source": [
    "plt.scatter(cities_df[\"Lat\"],cities_df[\"Wind Speed\"])\n",
    "plt.xlabel(\"Latitude\")\n",
    "plt.ylabel(\"Wind Speed\")\n",
    "plt.title(\"Latitude vs. Wind Speed\")\n",
    "plt.grid()\n",
    "\n",
    "\n",
    "plt.savefig('LatVWind.png')\n",
    "\n",
    "plt.show()\n"
   ]
  },
  {
   "cell_type": "markdown",
   "metadata": {},
   "source": [
    "## Linear Regression"
   ]
  },
  {
   "cell_type": "code",
   "execution_count": 12,
   "metadata": {},
   "outputs": [],
   "source": [
    "north_df = cities_df.loc[cities_df[\"Lat\"] > 0]\n",
    "south_df = cities_df.loc[cities_df[\"Lat\"] < 0]"
   ]
  },
  {
   "cell_type": "markdown",
   "metadata": {},
   "source": [
    "####  Northern Hemisphere - Max Temp vs. Latitude Linear Regression"
   ]
  },
  {
   "cell_type": "code",
   "execution_count": 13,
   "metadata": {},
   "outputs": [
    {
     "name": "stdout",
     "output_type": "stream",
     "text": [
      "y = -1.28x + 96.78\n",
      "The r-value is: -0.8878871180501416\n"
     ]
    },
    {
     "data": {
      "image/png": "[encoded data removed]",
      "text/plain": [
       "<Figure size 432x288 with 1 Axes>"
      ]
     },
     "metadata": {
      "needs_background": "light"
     },
     "output_type": "display_data"
    }
   ],
   "source": [
    "plt.scatter(north_df[\"Lat\"],north_df[\"Max Temp\"])\n",
    "plt.xlabel(\"Latitude\")\n",
    "plt.ylabel(\"Max Temperature\")\n",
    "\n",
    "(slope, intercept, r, p, std) = linregress(north_df[\"Lat\"],north_df[\"Max Temp\"])\n",
    "regress_values = north_df[\"Lat\"] * slope + intercept\n",
    "line_eq = \"y = \" + str(round(slope,2)) + \"x + \" + str(round(intercept,2))\n",
    "plt.plot(north_df[\"Lat\"],regress_values,\"r-\")\n",
    "print(line_eq)\n",
    "print(f\"The r-value is: {r}\")\n",
    "\n",
    "plt.show()"
   ]
  },
  {
   "cell_type": "markdown",
   "metadata": {},
   "source": [
    "####  Southern Hemisphere - Max Temp vs. Latitude Linear Regression"
   ]
  },
  {
   "cell_type": "code",
   "execution_count": 14,
   "metadata": {},
   "outputs": [
    {
     "name": "stdout",
     "output_type": "stream",
     "text": [
      "y = 0.49x + 83.19\n",
      "The r-value is: 0.6173966106055983\n"
     ]
    },
    {
     "data": {
      "image/png": "[encoded data removed]",
      "text/plain": [
       "<Figure size 432x288 with 1 Axes>"
      ]
     },
     "metadata": {
      "needs_background": "light"
     },
     "output_type": "display_data"
    }
   ],
   "source": [
    "plt.scatter(south_df[\"Lat\"],south_df[\"Max Temp\"])\n",
    "plt.xlabel(\"Latitude\")\n",
    "plt.ylabel(\"Max Temperature\")\n",
    "\n",
    "(slope, intercept, r, p, std) = linregress(south_df[\"Lat\"],south_df[\"Max Temp\"])\n",
    "regress_values = south_df[\"Lat\"] * slope + intercept\n",
    "line_eq = \"y = \" + str(round(slope,2)) + \"x + \" + str(round(intercept,2))\n",
    "plt.plot(south_df[\"Lat\"],regress_values,\"r-\")\n",
    "print(line_eq)\n",
    "print(f\"The r-value is: {r}\")\n",
    "\n",
    "plt.show()"
   ]
  },
  {
   "cell_type": "markdown",
   "metadata": {},
   "source": [
    "####  Northern Hemisphere - Humidity (%) vs. Latitude Linear Regression"
   ]
  },
  {
   "cell_type": "code",
   "execution_count": 15,
   "metadata": {},
   "outputs": [
    {
     "name": "stdout",
     "output_type": "stream",
     "text": [
      "y = 0.38x + 54.12\n",
      "The r-value is: 0.3459449485088861\n"
     ]
    },
    {
     "data": {
      "image/png": "[encoded data removed]",
      "text/plain": [
       "<Figure size 432x288 with 1 Axes>"
      ]
     },
     "metadata": {
      "needs_background": "light"
     },
     "output_type": "display_data"
    }
   ],
   "source": [
    "plt.scatter(north_df[\"Lat\"],north_df[\"Humidity\"])\n",
    "plt.xlabel(\"Latitude\")\n",
    "plt.ylabel(\"Humidity\")\n",
    "\n",
    "(slope, intercept, r, p, std) = linregress(north_df[\"Lat\"],north_df[\"Humidity\"])\n",
    "regress_values = north_df[\"Lat\"] * slope + intercept\n",
    "line_eq = \"y = \" + str(round(slope,2)) + \"x + \" + str(round(intercept,2))\n",
    "plt.plot(north_df[\"Lat\"],regress_values,\"r-\")\n",
    "print(line_eq)\n",
    "print(f\"The r-value is: {r}\")\n",
    "\n",
    "plt.show()"
   ]
  },
  {
   "cell_type": "markdown",
   "metadata": {},
   "source": [
    "####  Southern Hemisphere - Humidity (%) vs. Latitude Linear Regression"
   ]
  },
  {
   "cell_type": "code",
   "execution_count": 16,
   "metadata": {},
   "outputs": [
    {
     "name": "stdout",
     "output_type": "stream",
     "text": [
      "y = 0.29x + 81.47\n",
      "The r-value is: 0.2346736518945472\n"
     ]
    },
    {
     "data": {
      "image/png": "[encoded data removed]",
      "text/plain": [
       "<Figure size 432x288 with 1 Axes>"
      ]
     },
     "metadata": {
      "needs_background": "light"
     },
     "output_type": "display_data"
    }
   ],
   "source": [
    "plt.scatter(south_df[\"Lat\"],south_df[\"Humidity\"])\n",
    "plt.xlabel(\"Latitude\")\n",
    "plt.ylabel(\"Humidity\")\n",
    "\n",
    "(slope, intercept, r, p, std) = linregress(south_df[\"Lat\"],south_df[\"Humidity\"])\n",
    "regress_values = south_df[\"Lat\"] * slope + intercept\n",
    "line_eq = \"y = \" + str(round(slope,2)) + \"x + \" + str(round(intercept,2))\n",
    "plt.plot(south_df[\"Lat\"],regress_values,\"r-\")\n",
    "print(line_eq)\n",
    "print(f\"The r-value is: {r}\")\n",
    "\n",
    "plt.show()"
   ]
  },
  {
   "cell_type": "markdown",
   "metadata": {},
   "source": [
    "####  Northern Hemisphere - Cloudiness (%) vs. Latitude Linear Regression"
   ]
  },
  {
   "cell_type": "code",
   "execution_count": 17,
   "metadata": {},
   "outputs": [
    {
     "name": "stdout",
     "output_type": "stream",
     "text": [
      "y = 0.26x + 41.48\n",
      "The r-value is: 0.13091967559910506\n"
     ]
    },
    {
     "data": {
      "image/png": "[encoded data removed]",
      "text/plain": [
       "<Figure size 432x288 with 1 Axes>"
      ]
     },
     "metadata": {
      "needs_background": "light"
     },
     "output_type": "display_data"
    }
   ],
   "source": [
    "plt.scatter(north_df[\"Lat\"],north_df[\"Cloudiness\"])\n",
    "plt.xlabel(\"Latitude\")\n",
    "plt.ylabel(\"Cloudiness\")\n",
    "\n",
    "(slope, intercept, r, p, std) = linregress(north_df[\"Lat\"],north_df[\"Cloudiness\"])\n",
    "regress_values = north_df[\"Lat\"] * slope + intercept\n",
    "line_eq = \"y = \" + str(round(slope,2)) + \"x + \" + str(round(intercept,2))\n",
    "plt.plot(north_df[\"Lat\"],regress_values,\"r-\")\n",
    "print(line_eq)\n",
    "print(f\"The r-value is: {r}\")\n",
    "\n",
    "plt.show()"
   ]
  },
  {
   "cell_type": "markdown",
   "metadata": {},
   "source": [
    "####  Southern Hemisphere - Cloudiness (%) vs. Latitude Linear Regression"
   ]
  },
  {
   "cell_type": "code",
   "execution_count": 18,
   "metadata": {},
   "outputs": [
    {
     "name": "stdout",
     "output_type": "stream",
     "text": [
      "y = 1.28x + 76.68\n",
      "The r-value is: 0.4469766367915126\n"
     ]
    },
    {
     "data": {
      "image/png": "[encoded data removed]",
      "text/plain": [
       "<Figure size 432x288 with 1 Axes>"
      ]
     },
     "metadata": {
      "needs_background": "light"
     },
     "output_type": "display_data"
    }
   ],
   "source": [
    "plt.scatter(south_df[\"Lat\"],south_df[\"Cloudiness\"])\n",
    "plt.xlabel(\"Latitude\")\n",
    "plt.ylabel(\"Cloudiness\")\n",
    "\n",
    "(slope, intercept, r, p, std) = linregress(south_df[\"Lat\"],south_df[\"Cloudiness\"])\n",
    "regress_values = south_df[\"Lat\"] * slope + intercept\n",
    "line_eq = \"y = \" + str(round(slope,2)) + \"x + \" + str(round(intercept,2))\n",
    "plt.plot(south_df[\"Lat\"],regress_values,\"r-\")\n",
    "print(line_eq)\n",
    "print(f\"The r-value is: {r}\")\n",
    "\n",
    "plt.show()"
   ]
  },
  {
   "cell_type": "markdown",
   "metadata": {},
   "source": [
    "####  Northern Hemisphere - Wind Speed (mph) vs. Latitude Linear Regression"
   ]
  },
  {
   "cell_type": "code",
   "execution_count": 19,
   "metadata": {},
   "outputs": [
    {
     "name": "stdout",
     "output_type": "stream",
     "text": [
      "y = 0.03x + 7.23\n",
      "The r-value is: 0.10543212716901974\n"
     ]
    },
    {
     "data": {
      "image/png": "[encoded data removed]",
      "text/plain": [
       "<Figure size 432x288 with 1 Axes>"
      ]
     },
     "metadata": {
      "needs_background": "light"
     },
     "output_type": "display_data"
    }
   ],
   "source": [
    "plt.scatter(north_df[\"Lat\"],north_df[\"Wind Speed\"])\n",
    "plt.xlabel(\"Latitude\")\n",
    "plt.ylabel(\"Wind Speed\")\n",
    "\n",
    "(slope, intercept, r, p, std) = linregress(north_df[\"Lat\"],north_df[\"Wind Speed\"])\n",
    "regress_values = north_df[\"Lat\"] * slope + intercept\n",
    "line_eq = \"y = \" + str(round(slope,2)) + \"x + \" + str(round(intercept,2))\n",
    "plt.plot(north_df[\"Lat\"],regress_values,\"r-\")\n",
    "print(line_eq)\n",
    "print(f\"The r-value is: {r}\")\n",
    "\n",
    "plt.show()"
   ]
  },
  {
   "cell_type": "markdown",
   "metadata": {},
   "source": [
    "####  Southern Hemisphere - Wind Speed (mph) vs. Latitude Linear Regression"
   ]
  },
  {
   "cell_type": "code",
   "execution_count": 20,
   "metadata": {},
   "outputs": [
    {
     "name": "stdout",
     "output_type": "stream",
     "text": [
      "y = -0.07x + 5.25\n",
      "The r-value is: -0.1847790902789518\n"
     ]
    },
    {
     "data": {
      "image/png": "[encoded data removed]",
      "text/plain": [
       "<Figure size 432x288 with 1 Axes>"
      ]
     },
     "metadata": {
      "needs_background": "light"
     },
     "output_type": "display_data"
    }
   ],
   "source": [
    "plt.scatter(south_df[\"Lat\"],south_df[\"Wind Speed\"])\n",
    "plt.xlabel(\"Latitude\")\n",
    "plt.ylabel(\"Wind Speed\")\n",
    "\n",
    "(slope, intercept, r, p, std) = linregress(south_df[\"Lat\"],south_df[\"Wind Speed\"])\n",
    "regress_values = south_df[\"Lat\"] * slope + intercept\n",
    "line_eq = \"y = \" + str(round(slope,2)) + \"x + \" + str(round(intercept,2))\n",
    "plt.plot(south_df[\"Lat\"],regress_values,\"r-\")\n",
    "print(line_eq)\n",
    "print(f\"The r-value is: {r}\")\n",
    "\n",
    "plt.show()"
   ]
  },
  {
   "cell_type": "code",
   "execution_count": null,
   "metadata": {},
   "outputs": [],
   "source": []
  }
 ],
 "metadata": {
  "anaconda-cloud": {},
  "kernel_info": {
   "name": "python3"
  },
  "kernelspec": {
   "display_name": "Python 3",
   "language": "python",
   "name": "python3"
  },
  "language_info": {
   "codemirror_mode": {
    "name": "ipython",
    "version": 3
   },
   "file_extension": ".py",
   "mimetype": "text/x-python",
   "name": "python",
   "nbconvert_exporter": "python",
   "pygments_lexer": "ipython3",
   "version": "3.8.5"
  },
  "latex_envs": {
   "LaTeX_envs_menu_present": true,
   "autoclose": false,
   "autocomplete": true,
   "bibliofile": "biblio.bib",
   "cite_by": "apalike",
   "current_citInitial": 1,
   "eqLabelWithNumbers": true,
   "eqNumInitial": 1,
   "hotkeys": {
    "equation": "Ctrl-E",
    "itemize": "Ctrl-I"
   },
   "labels_anchors": false,
   "latex_user_defs": false,
   "report_style_numbering": false,
   "user_envs_cfg": false
  },
  "nteract": {
   "version": "0.12.3"
  }
 },
 "nbformat": 4,
 "nbformat_minor": 4
}
